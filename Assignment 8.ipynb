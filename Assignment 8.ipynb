{
 "cells": [
  {
   "cell_type": "markdown",
   "id": "581e8da6",
   "metadata": {},
   "source": [
    "#### Ans 1:\n",
    "No, the Python Standard Library is not included with PyInputPlus. The Python Standard Library is a collection of modules and packages that come with Python itself and provide various functionalities. PyInputPlus is a separate third-party library that needs to be installed separately to be used in Python scripts."
   ]
  },
  {
   "cell_type": "markdown",
   "id": "7d9d6927",
   "metadata": {},
   "source": [
    "#### Ans 2:\n",
    "PyInputPlus is commonly imported with the alias 'pypi' to make it easier and quicker to use the functions provided by the library. Using a shorter alias like 'pypi' instead of 'pyinputplus' reduces the amount of typing needed and makes the code more concise and readable."
   ]
  },
  {
   "cell_type": "markdown",
   "id": "993bc0b0",
   "metadata": {},
   "source": [
    "#### Ans 3:\n",
    "The functions inputInt() and inputFloat() are used to get integer and floating-point input from the user, respectively. The main difference between them is the type of input they expect. inputInt() will keep asking for input until the user enters a valid integer value, while inputFloat() will do the same for a valid floating-point number."
   ]
  },
  {
   "cell_type": "markdown",
   "id": "1626a548",
   "metadata": {},
   "source": [
    "#### Ans4:\n",
    "To ensure that the user enters a whole number between 0 and 99 using PyInputPlus, you can use the inputInt() function with the min and max keyword arguments set to 0 and 99, respectively:"
   ]
  },
  {
   "cell_type": "code",
   "execution_count": 4,
   "id": "558e75b2",
   "metadata": {},
   "outputs": [
    {
     "name": "stdout",
     "output_type": "stream",
     "text": [
      "Collecting pyinputplus\n",
      "  Downloading PyInputPlus-0.2.12.tar.gz (20 kB)\n",
      "  Installing build dependencies: started\n",
      "  Installing build dependencies: finished with status 'done'\n",
      "  Getting requirements to build wheel: started\n",
      "  Getting requirements to build wheel: finished with status 'done'\n",
      "  Preparing metadata (pyproject.toml): started\n",
      "  Preparing metadata (pyproject.toml): finished with status 'done'\n",
      "Collecting stdiomask>=0.0.3\n",
      "  Downloading stdiomask-0.0.6.tar.gz (3.6 kB)\n",
      "  Installing build dependencies: started\n",
      "  Installing build dependencies: finished with status 'done'\n",
      "  Getting requirements to build wheel: started\n",
      "  Getting requirements to build wheel: finished with status 'done'\n",
      "  Preparing metadata (pyproject.toml): started\n",
      "  Preparing metadata (pyproject.toml): finished with status 'done'\n",
      "Collecting pysimplevalidate>=0.2.7\n",
      "  Downloading PySimpleValidate-0.2.12.tar.gz (22 kB)\n",
      "  Installing build dependencies: started\n",
      "  Installing build dependencies: finished with status 'done'\n",
      "  Getting requirements to build wheel: started\n",
      "  Getting requirements to build wheel: finished with status 'done'\n",
      "  Preparing metadata (pyproject.toml): started\n",
      "  Preparing metadata (pyproject.toml): finished with status 'done'\n",
      "Building wheels for collected packages: pyinputplus, pysimplevalidate, stdiomask\n",
      "  Building wheel for pyinputplus (pyproject.toml): started\n",
      "  Building wheel for pyinputplus (pyproject.toml): finished with status 'done'\n",
      "  Created wheel for pyinputplus: filename=PyInputPlus-0.2.12-py3-none-any.whl size=11320 sha256=e184d344d18e40efad57b39de0082ba0aa5120579539b64928c70b7503033cf9\n",
      "  Stored in directory: c:\\users\\praful bhojane\\appdata\\local\\pip\\cache\\wheels\\b4\\6e\\2f\\8a852732646cabec36c3fe8fc060ec5bea1c1be711432c47f7\n",
      "  Building wheel for pysimplevalidate (pyproject.toml): started\n",
      "  Building wheel for pysimplevalidate (pyproject.toml): finished with status 'done'\n",
      "  Created wheel for pysimplevalidate: filename=PySimpleValidate-0.2.12-py3-none-any.whl size=16204 sha256=f55c6e2591589e540ac55fce0dcaedf66d3a4e6a0437003055ac56b278a7309d\n",
      "  Stored in directory: c:\\users\\praful bhojane\\appdata\\local\\pip\\cache\\wheels\\b1\\44\\4a\\043a4f4c4512c7cdfb0c2b8408b18b0de5fd45cac57f5dfa02\n",
      "  Building wheel for stdiomask (pyproject.toml): started\n",
      "  Building wheel for stdiomask (pyproject.toml): finished with status 'done'\n",
      "  Created wheel for stdiomask: filename=stdiomask-0.0.6-py3-none-any.whl size=3320 sha256=3982b2170aa3ee34579850af541a202ccd653949747a11cf5131a6de3200713c\n",
      "  Stored in directory: c:\\users\\praful bhojane\\appdata\\local\\pip\\cache\\wheels\\1d\\aa\\47\\f41f117d22c5de82e95d9342f44da578c80610739a2d5ebec4\n",
      "Successfully built pyinputplus pysimplevalidate stdiomask\n",
      "Installing collected packages: stdiomask, pysimplevalidate, pyinputplus\n",
      "Successfully installed pyinputplus-0.2.12 pysimplevalidate-0.2.12 stdiomask-0.0.6\n",
      "Enter a whole number between 0 and 99: 36\n"
     ]
    }
   ],
   "source": [
    "!pip install pyinputplus\n",
    "import pyinputplus as pypi\n",
    "\n",
    "number = pypi.inputInt(prompt=\"Enter a whole number between 0 and 99: \", min=0, max=99)\n"
   ]
  },
  {
   "cell_type": "markdown",
   "id": "ea2d9e9f",
   "metadata": {},
   "source": [
    "#### Ans 5:\n",
    "The keyword arguments allowRegexes and blockRegexes in PyInputPlus are used to specify regular expressions that determine what input is allowed or blocked. They are lists of regular expression strings. If the user's input matches any expression in allowRegexes, it is considered valid. If the input matches any expression in blockRegexes, it is rejected."
   ]
  },
  {
   "cell_type": "markdown",
   "id": "f3a89fef",
   "metadata": {},
   "source": [
    "#### Ans 6:\n",
    "If a blank input is entered three times with inputStr(limit=3), PyInputPlus raises an exception of type ValidationException. This is because the default behavior of inputStr() is to allow empty inputs, and the default number of retries is 3. If the user fails to provide valid input within the given limit, PyInputPlus raises the exception."
   ]
  },
  {
   "cell_type": "markdown",
   "id": "780d98b3",
   "metadata": {},
   "source": [
    "#### Ans 7:\n",
    "If blank input is entered three times with inputStr(limit=3, default='hello'), the function will return the default value 'hello' after three failed attempts. The user is allowed to leave the input blank three times, and then the function returns the provided default value. The limit parameter specifies the maximum number of retries allowed, and the default parameter provides the value to be returned if the user doesn't provide valid input within the given limit."
   ]
  },
  {
   "cell_type": "code",
   "execution_count": null,
   "id": "9ae36a23",
   "metadata": {},
   "outputs": [],
   "source": []
  }
 ],
 "metadata": {
  "kernelspec": {
   "display_name": "Python 3 (ipykernel)",
   "language": "python",
   "name": "python3"
  },
  "language_info": {
   "codemirror_mode": {
    "name": "ipython",
    "version": 3
   },
   "file_extension": ".py",
   "mimetype": "text/x-python",
   "name": "python",
   "nbconvert_exporter": "python",
   "pygments_lexer": "ipython3",
   "version": "3.9.12"
  }
 },
 "nbformat": 4,
 "nbformat_minor": 5
}
