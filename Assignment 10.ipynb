{
 "cells": [
  {
   "cell_type": "markdown",
   "id": "1668b646",
   "metadata": {},
   "source": [
    "#### Ans 1:\n",
    "1. The main differences between `shutil.copy()` and `shutil.copytree()` are:\n",
    "\n",
    "   - `shutil.copy(src, dst)`: This function is used to copy a single file from the source path (`src`) to the destination path (`dst`). If the `dst` is a filename, the file is copied to that location with the specified filename. If the `dst` is a directory path, the file is copied into that directory with the same filename.\n",
    "\n",
    "`shutil.copytree(src, dst)`: This function is used to copy an entire directory tree from the source directory (`src`) to the destination directory (`dst`). It recursively copies all the files and subdirectories from the source to the destination. The destination directory must not exist, or the function will raise an error.\n",
    "\n",
    "#### Ans 2:\n",
    "The function used to rename files is `os.rename(src, dst)`. It renames the file or directory with the name specified in `src` to the name given in `dst`. Both `src` and `dst` can be either relative or absolute paths.\n",
    "\n",
    "#### Ans 3:\n",
    "The main difference between the delete functions in the `send2trash` and `shutil` modules is how they handle file deletion:\n",
    "\n",
    "   - `send2trash.send2trash(path)`: This function sends the specified file or directory (`path`) to the trash or recycle bin instead of permanently deleting it. It is a safer alternative to `os.remove()` or `shutil.rmtree()` as it allows the possibility of restoring deleted files from the trash if needed.\n",
    "\n",
    "   - `shutil.rmtree(path)`: This function is used to delete an entire directory tree at the specified path (`path`) and permanently removes all the files and directories within it. It doesn't send the files to the trash but permanently deletes them from the file system.\n",
    "\n",
    "#### Ans4:\n",
    "The ZipFile method that is equivalent to File objects' open() method is `ZipFile()` itself. To open a ZIP file for reading, writing, or appending, you use the `ZipFile()` constructor, similar to how you use the `open()` function to open regular files.\n",
    "\n",
    "#### Ans 5\n",
    "Here's a Python program that searches a folder tree for files with a certain file extension (e.g., .pdf or .jpg) and copies these files to a new folder:\n",
    "\n",
    "```python\n",
    "import os\n",
    "import shutil\n",
    "\n",
    "def find_and_copy_files(source_folder, target_folder, extension):\n",
    "    for root, dirs, files in os.walk(source_folder):\n",
    "        for file in files:\n",
    "            if file.lower().endswith(extension.lower()):\n",
    "                source_path = os.path.join(root, file)\n",
    "                target_path = os.path.join(target_folder, file)\n",
    "                shutil.copy(source_path, target_path)\n",
    "                print(f\"Copied: {source_path} -> {target_path}\")\n",
    "\n",
    "# Example usage:\n",
    "source_folder = \"/path/to/source/folder\"\n",
    "target_folder = \"/path/to/target/folder\"\n",
    "file_extension = \".pdf\"  # Replace with the desired file extension\n",
    "find_and_copy_files(source_folder, target_folder, file_extension)\n",
    "```\n",
    "\n",
    "Make sure to replace `\"/path/to/source/folder\"` and `\"/path/to/target/folder\"` with the actual paths of your source and target folders. Also, change `\".pdf\"` to the desired file extension you want to search for and copy"
   ]
  },
  {
   "cell_type": "code",
   "execution_count": null,
   "id": "c6109c1d",
   "metadata": {},
   "outputs": [],
   "source": []
  }
 ],
 "metadata": {
  "kernelspec": {
   "display_name": "Python 3 (ipykernel)",
   "language": "python",
   "name": "python3"
  },
  "language_info": {
   "codemirror_mode": {
    "name": "ipython",
    "version": 3
   },
   "file_extension": ".py",
   "mimetype": "text/x-python",
   "name": "python",
   "nbconvert_exporter": "python",
   "pygments_lexer": "ipython3",
   "version": "3.9.12"
  }
 },
 "nbformat": 4,
 "nbformat_minor": 5
}
