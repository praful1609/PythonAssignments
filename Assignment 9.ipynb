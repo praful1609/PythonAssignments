{
 "cells": [
  {
   "cell_type": "markdown",
   "id": "3e31a148",
   "metadata": {},
   "source": [
    "\n",
    "#### Ans 1:\n",
    "A relative path refers to the location of a file or directory relative to the current working directory. It does not start from the root of the file system but provides a path relative to the location of the program or script that is executing.\n",
    "\n",
    "#### Ans 2:\n",
    "An absolute path starts with the root directory of the operating system. On Windows, an absolute path starts with a drive letter (e.g., C:\\) or the UNC format for network paths (e.g., \\\\server\\share\\). On Unix-based systems (e.g., Linux, macOS), an absolute path starts with a forward slash (/).\n",
    "\n",
    "#### Ans 3:\n",
    "The functions `os.getcwd()` and `os.chdir()` are related to the current working directory (CWD) in the operating system:\n",
    "   - `os.getcwd()`: It returns the current working directory, i.e., the directory from which the script or program is currently running.\n",
    "   - `os.chdir(path)`: It changes the current working directory to the specified `path`.\n",
    "\n",
    "#### Ans4:\n",
    "In file systems, the \".\" (dot) represents the current directory, and the \"..\" (dot dot) represents the parent directory. They are used to navigate the file system hierarchy. For example, if the current directory is \"/home/user/Documents,\" then \"./file.txt\" refers to the file \"file.txt\" in the current directory, and \"../backup/file.txt\" refers to the file \"file.txt\" in the \"backup\" directory located in the parent directory.\n",
    "\n",
    "#### Ans 5:\n",
    "In the path \"C:\\bacon\\eggs\\spam.txt\":\n",
    "   - \"C:\\bacon\\eggs\" is the dir name (directory name).\n",
    "   - \"spam.txt\" is the base name (file name).\n",
    "\n",
    "#### Ans 6:\n",
    "The three \"mode\" arguments that can be passed to the `open()` function are:\n",
    "   - \"r\": Read mode (default). It opens the file for reading.\n",
    "   - \"w\": Write mode. It opens the file for writing and truncates the file if it already exists. If the file does not exist, it creates a new file.\n",
    "   - \"a\": Append mode. It opens the file for writing but does not truncate it. If the file does not exist, it creates a new file.\n",
    "\n",
    "#### Ans 7:\n",
    "If an existing file is opened in write mode (\"w\"), it will be truncated, which means all its content will be deleted. If the file does not exist, a new empty file will be created. Care should be taken when using write mode, as data loss can occur if you write to an existing file without taking backups.\n",
    "\n",
    "#### Ans 8:\n",
    "The `read()` method reads the entire contents of a file as a single string, while the `readlines()` method reads the contents of a file and returns a list of strings, where each element in the list corresponds to a line in the file.\n",
    "\n",
    "#### Ans 9:\n",
    "A shelf value in Python resembles a dictionary data structure. It is provided by the `shelve` module and acts like a persistent dictionary where the data is stored in a file. Shelves are useful for saving Python objects (such as dictionaries, lists, etc.) to disk and retrieving them later, maintaining the dictionary-like interface."
   ]
  },
  {
   "cell_type": "code",
   "execution_count": null,
   "id": "ba0ef941",
   "metadata": {},
   "outputs": [],
   "source": []
  }
 ],
 "metadata": {
  "kernelspec": {
   "display_name": "Python 3 (ipykernel)",
   "language": "python",
   "name": "python3"
  },
  "language_info": {
   "codemirror_mode": {
    "name": "ipython",
    "version": 3
   },
   "file_extension": ".py",
   "mimetype": "text/x-python",
   "name": "python",
   "nbconvert_exporter": "python",
   "pygments_lexer": "ipython3",
   "version": "3.9.12"
  }
 },
 "nbformat": 4,
 "nbformat_minor": 5
}
