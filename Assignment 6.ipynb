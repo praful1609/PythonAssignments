{
 "cells": [
  {
   "cell_type": "markdown",
   "id": "d411bed2",
   "metadata": {},
   "source": [
    "#### Ans 1: \n",
    "Escape characters are special characters used in strings to represent characters that are difficult to include directly. They are preceded by a backslash \"/\" to indicate that the following character should be treated differently than its usual meaning. For example, if you want to include a double quote within a string that is surrounded by double quotes, you would use the escape character: \"."
   ]
  },
  {
   "cell_type": "markdown",
   "id": "7d2ee5cd",
   "metadata": {},
   "source": [
    "#### Ans 2:\n",
    "In Python, the escape characters '\\n' and '\\t' stand for:\n",
    "\n",
    "'\\n': Newline character. It is used to insert a line break in a string.\n",
    "'\\t': Tab character. It is used to insert a horizontal tab (indentation) in a string."
   ]
  },
  {
   "cell_type": "markdown",
   "id": "37ee3f27",
   "metadata": {},
   "source": [
    "#### Ans 3:\n",
    "To include a backslash character itself in a string, you need to escape it using another backslash. For example, to include the backslash in a string, you would write \"\\\"."
   ]
  },
  {
   "cell_type": "markdown",
   "id": "b1245709",
   "metadata": {},
   "source": [
    "#### Ans 4:\n",
    "The string \"Howl's Moving Castle\" is a correct value because the single quote character (') in the word \"Howl's\" is not causing any problem due to the use of double quotes to define the string. In Python, you can use either single quotes or double quotes to define a string. So, when the string is defined using double quotes, the single quote within it does not need to be escaped."
   ]
  },
  {
   "cell_type": "markdown",
   "id": "b2c377aa",
   "metadata": {},
   "source": [
    "#### Ans 5:\n",
    "If you don't want to use the '\\n' character to represent newlines, you can use triple quotes (\"\"\" or ''') to create a multi-line string. For example:\n"
   ]
  },
  {
   "cell_type": "code",
   "execution_count": 1,
   "id": "ba2e3df3",
   "metadata": {},
   "outputs": [],
   "source": [
    "multiline_string = \"\"\"Line 1\n",
    "Line 2\n",
    "Line 3\"\"\"\n"
   ]
  },
  {
   "cell_type": "markdown",
   "id": "fe9d7bf9",
   "metadata": {},
   "source": [
    "#### Ans 6:\n",
    "The values of the given expressions are:\n",
    "\n",
    "'Hello, world!'[1]: This will return the character at index 1, which is 'e'.\n",
    "\n",
    "'Hello, world!'[0:5]: This will return the substring from index 0 to 4 (5-1), which is 'Hello'.\n",
    "\n",
    "'Hello, world!'[:5]: This is the same as the previous expression, returning 'Hello'.\n",
    "\n",
    "'Hello, world!'[3:]: This will return the substring from index 3 to the end of the string, which is 'lo, world!'."
   ]
  },
  {
   "cell_type": "markdown",
   "id": "89767a20",
   "metadata": {},
   "source": [
    "#### Ans 7:\n",
    "The values of the following expressions are:\n",
    "\n",
    "'Hello'.upper(): This will convert the string to uppercase, resulting in 'HELLO'.\n",
    "\n",
    "'Hello'.upper().isupper(): This will first convert the string to uppercase and then check if all characters are uppercase, which will return True.\n",
    "\n",
    "'Hello'.upper().lower(): This will first convert the string to uppercase and then convert it back to lowercase, resulting in 'hello'."
   ]
  },
  {
   "cell_type": "markdown",
   "id": "8f27b888",
   "metadata": {},
   "source": [
    "#### Ans 8:\n",
    "The values of the following expressions are:\n",
    "\n",
    "'Remember, remember, the fifth of July.'.split(): This will split the string into a list of words, separated by whitespace characters. The result will be ['Remember,', 'remember,', 'the', 'fifth', 'of', 'July.'].\n",
    "\n",
    "'-'.join('There can only one.'.split()): This will first split the string into words, then join them back using a hyphen ('-'). The result will be 'There-can-only-one.'."
   ]
  },
  {
   "cell_type": "markdown",
   "id": "ab5161c5",
   "metadata": {},
   "source": [
    "#### Ans 9:\n",
    "The methods for right-justifying, left-justifying, and centering a string are:\n",
    "\n",
    "str.rjust(width, fillchar): Right-justifies the string in a field of given width, padded with fillchar (if provided, defaults to space ' ').\n",
    "    \n",
    "str.ljust(width, fillchar): Left-justifies the string in a field of given width, padded with fillchar (if provided, defaults to space ' ').\n",
    "    \n",
    "str.center(width, fillchar): Centers the string in a field of given width, padded with fillchar (if provided, defaults to space ' ')."
   ]
  },
  {
   "cell_type": "markdown",
   "id": "603569cf",
   "metadata": {},
   "source": [
    "#### Ans 10:\n",
    "The best way to remove whitespace characters from the start or end of a string in Python is by using the str.strip() method. For example:\n",
    "\n"
   ]
  },
  {
   "cell_type": "code",
   "execution_count": 3,
   "id": "3f285cba",
   "metadata": {},
   "outputs": [
    {
     "name": "stdout",
     "output_type": "stream",
     "text": [
      "Hello, world!\n"
     ]
    }
   ],
   "source": [
    "text = \"   Hello, world!   \"\n",
    "result = text.strip()\n",
    "print(result)  # Output: \"Hello, world!\"\n"
   ]
  },
  {
   "cell_type": "code",
   "execution_count": null,
   "id": "4eccba42",
   "metadata": {},
   "outputs": [],
   "source": []
  }
 ],
 "metadata": {
  "kernelspec": {
   "display_name": "Python 3 (ipykernel)",
   "language": "python",
   "name": "python3"
  },
  "language_info": {
   "codemirror_mode": {
    "name": "ipython",
    "version": 3
   },
   "file_extension": ".py",
   "mimetype": "text/x-python",
   "name": "python",
   "nbconvert_exporter": "python",
   "pygments_lexer": "ipython3",
   "version": "3.9.12"
  }
 },
 "nbformat": 4,
 "nbformat_minor": 5
}
