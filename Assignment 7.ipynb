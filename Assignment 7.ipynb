{
 "cells": [
  {
   "cell_type": "markdown",
   "id": "7b8d9222",
   "metadata": {},
   "source": [
    "#### Ans 1:\n",
    "\n",
    "The feature responsible for generating Regex objects is the \"re\" module in Python."
   ]
  },
  {
   "cell_type": "markdown",
   "id": "06b17d54",
   "metadata": {},
   "source": [
    "#### Ans 2:\n",
    "Raw strings often appear in Regex objects to avoid the backslash character being treated as an escape character by Python itself. Since backslashes are heavily used in regular expressions, using raw strings (prefixed with 'r') ensures that the backslashes are treated literally and passed to the regex engine as-is."
   ]
  },
  {
   "cell_type": "markdown",
   "id": "3421bff1",
   "metadata": {},
   "source": [
    "#### Ans 3:\n",
    "The return value of the search() method is a Match object if the pattern is found in the string. If no match is found, it returns None."
   ]
  },
  {
   "cell_type": "markdown",
   "id": "dd338c2d",
   "metadata": {},
   "source": [
    "#### Ans4:\n",
    "From a Match object, you can get the actual strings that match the pattern using the group() method. Calling group() with no arguments returns the entire matched string, but you can also specify the group number to get specific matched substrings if the regex contains capturing groups.\n"
   ]
  },
  {
   "cell_type": "markdown",
   "id": "a8c8faf2",
   "metadata": {},
   "source": [
    "#### Ans 5:\n",
    "In the regex created from r'(\\d\\d\\d)-(\\d\\d\\d-\\d\\d\\d\\d)', group zero (group 0) covers the entire matched string. Group 1 covers the first set of three digits (the first capturing group), and Group 2 covers the second set of three digits (the second capturing group)."
   ]
  },
  {
   "cell_type": "markdown",
   "id": "31c4a601",
   "metadata": {},
   "source": [
    "#### Ans 6:\n",
    "To tell a regex that you want to match real parentheses and periods, you need to escape them with backslashes. For example, to match literal parentheses '()' and periods '.', you would write '(' and '.' in your regex pattern."
   ]
  },
  {
   "cell_type": "markdown",
   "id": "b9ec9998",
   "metadata": {},
   "source": [
    "#### Ans 7:\n",
    "The findall() method returns a list of all non-overlapping matches in the input string. If the regex contains capturing groups, each match is returned as a tuple containing the captured substrings. If there are no capturing groups, the method returns a list of strings."
   ]
  },
  {
   "cell_type": "markdown",
   "id": "191f1fb8",
   "metadata": {},
   "source": [
    "#### Ans 8:\n",
    "In standard expressions, the '|' character means \"or.\" It allows you to specify alternatives in your regex pattern. For example, the pattern 'cat|dog' will match either 'cat' or 'dog' in the input string."
   ]
  },
  {
   "cell_type": "markdown",
   "id": "2edf0b91",
   "metadata": {},
   "source": [
    "#### Ans 9:\n",
    "In regular expressions, the character '\\d' stands for any digit (0-9)."
   ]
  },
  {
   "cell_type": "markdown",
   "id": "1b69309e",
   "metadata": {},
   "source": [
    "#### Ans 10:\n",
    "In regular expressions, the '+' and '*' characters are quantifiers:\n",
    "\n",
    "'+' means one or more occurrences of the preceding character or group.\n",
    "\n",
    "'*' means zero or more occurrences of the preceding character or group.\n"
   ]
  },
  {
   "cell_type": "markdown",
   "id": "39d9f695",
   "metadata": {},
   "source": [
    "#### Ans 11:\n",
    "In regular expressions, '{4}' matches exactly four occurrences of the preceding character or group. '{4,5}' matches four to five occurrences of the preceding character or group."
   ]
  },
  {
   "cell_type": "markdown",
   "id": "d7c8f385",
   "metadata": {},
   "source": [
    "#### Ans 12:\n",
    "In regular expressions:\n",
    "\n",
    "'\\d' is a shorthand character class for any digit (equivalent to [0-9]).\n",
    "\n",
    "'\\w' is a shorthand ch+aracter class for any word character, which includes letters, digits, and underscores (equivalent to [a-zA-Z0-9_]).\n",
    "'\\s' is a shorthand character class for any whitespace character (spaces, tabs, newlines, etc.)."
   ]
  },
  {
   "cell_type": "markdown",
   "id": "e222cae7",
   "metadata": {},
   "source": [
    "#### Ans 13:\n",
    "In regular expressions:\n",
    "'\\D' is the negation of '\\d' and matches any non-digit character.\n",
    "\n",
    "'\\W' is the negation of '\\w' and matches any non-word character.\n",
    "\n",
    "'\\S' is the negation of '\\s' and matches any non-whitespace character.++\n"
   ]
  },
  {
   "cell_type": "markdown",
   "id": "0113fa18",
   "metadata": {},
   "source": [
    "#### Ans 14:\n",
    "The difference between '.?' and '.' is in their greediness. '.?' is a non-greedy or lazy match, which means it will match as few characters as possible, while '.' is a greedy match, which means it will match as many characters as possible."
   ]
  },
  {
   "cell_type": "markdown",
   "id": "8f3ce30c",
   "metadata": {},
   "source": [
    "#### Ans 15:\n",
    "The syntax for matching both numbers and lowercase letters with a character class is '[0-9a-z]'."
   ]
  },
  {
   "cell_type": "markdown",
   "id": "01d5dbf8",
   "metadata": {},
   "source": [
    "#### Ans 16:\n",
    "To make a normal expression in regex case-insensitive, you can use the re.IGNORECASE or re.I flag when compiling the regex using re.compile()."
   ]
  },
  {
   "cell_type": "markdown",
   "id": "a74cbfe5",
   "metadata": {},
   "source": [
    "#### Ans 17:\n",
    "The '.' character normally matches any character except a newline. If re.DOTALL is passed as the second argument to re.compile(), the '.' will match any character, including a newline."
   ]
  },
  {
   "cell_type": "markdown",
   "id": "6cfe5fcf",
   "metadata": {},
   "source": [
    "#### Ans 18:\n",
    "If numRegex = re.compile(r'\\d+'), numRegex.sub('X', '11 drummers, 10 pipers, five rings, 4 hen') will return the string 'X drummers, X pipers, five rings, X hen'."
   ]
  },
  {
   "cell_type": "markdown",
   "id": "624a6111",
   "metadata": {},
   "source": [
    "#### Ans 19:\n",
    "Passing re.VERBOSE as the second argument to re.compile() allows you to include whitespace and comments inside the regular expression for better readability. It ignores whitespace and comments when compiling the regex."
   ]
  },
  {
   "cell_type": "markdown",
   "id": "952ce4eb",
   "metadata": {},
   "source": [
    "#### Ans 20:\n",
    "To match a number with a comma for every three digits, you can use the following regex pattern: r'\\d{1,3}(,\\d{3})*'."
   ]
  },
  {
   "cell_type": "markdown",
   "id": "726fa40b",
   "metadata": {},
   "source": [
    "#### Ans 21:\n",
    "To match the full name of someone whose last name is Watanabe with the first name capitalized, you can use the following regex pattern: r'[A-Z][a-zA-Z]* Watanabe'."
   ]
  },
  {
   "cell_type": "markdown",
   "id": "77573c1e",
   "metadata": {},
   "source": [
    "#### Ans 22:\n",
    "To match a sentence where the first word is either Alice, Bob, or Carol; the second word is either eats, pets, or throws; the third word is apples, cats, or baseballs; and the sentence ends with a period, you can use the following case-insensitive regex pattern: r'(Alice|Bob|Carol) (eats|pets|throws) (apples|cats|baseballs)\\.'."
   ]
  },
  {
   "cell_type": "code",
   "execution_count": null,
   "id": "5f09ae0d",
   "metadata": {},
   "outputs": [],
   "source": []
  }
 ],
 "metadata": {
  "kernelspec": {
   "display_name": "Python 3 (ipykernel)",
   "language": "python",
   "name": "python3"
  },
  "language_info": {
   "codemirror_mode": {
    "name": "ipython",
    "version": 3
   },
   "file_extension": ".py",
   "mimetype": "text/x-python",
   "name": "python",
   "nbconvert_exporter": "python",
   "pygments_lexer": "ipython3",
   "version": "3.9.12"
  }
 },
 "nbformat": 4,
 "nbformat_minor": 5
}
